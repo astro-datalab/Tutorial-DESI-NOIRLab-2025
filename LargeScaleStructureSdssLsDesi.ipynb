{
 "cells": [
  {
   "cell_type": "code",
   "execution_count": null,
   "metadata": {},
   "outputs": [],
   "source": [
    "__author__ = 'Stephanie Juneau <stephanie.juneau@noirlab.edu>, David Herrera <david.herrera@noirlab.edu>, and the Astro Data Lab Team <datalab@noirlab.edu>'\n",
    "__version__ = '20251006' # yyyymmdd\n",
    "__datasets__ = ['desi_dr1', 'ls_dr10', 'sdss_dr17']\n",
    "__keywords__ = ['extragalactic', 'galaxies', 'joint query', 'sparcl', 'spectra', 'spectroscopic redshift', '3d plot']"
   ]
  },
  {
   "cell_type": "markdown",
   "metadata": {},
   "source": [
    "# Large Scale Structure Probed by the DESI and SDSS/BOSS Surveys\n",
    "by Stéphanie Juneau, David Herrera, and the Astro Data Lab Team"
   ]
  },
  {
   "cell_type": "markdown",
   "metadata": {
    "jp-MarkdownHeadingCollapsed": true,
    "tags": []
   },
   "source": [
    "### Table of contents\n",
    "* [Goals & Summary](#goals)\n",
    "* [Disclaimer & attribution](#attribution)\n",
    "* [Imports & setup](#import)\n",
    "* [Query SDSS and DESI spectroscopic catalogs](#query)\n",
    "* [Plot results](#plots)\n",
    "* [Retrieving spectra with SPARCL](#spectra)\n",
    "* [Large-scale structure in 3D](#3d_plot)\n",
    "* [BONUS: Multiple spectra for the same object](#bonusspectra)\n",
    "* [BONUS: Large-scale structure with LS morphologies](#morphology)\n",
    "* [Exercise](#exercise)\n",
    "* [References](#references)\n"
   ]
  },
  {
   "cell_type": "markdown",
   "metadata": {},
   "source": [
    "<a class=\"anchor\" id=\"goals\"></a>\n",
    "# Goals\n",
    "* Query SDSS and DESI spectroscopic catalogs\n",
    "* Plot redshift distributions for both surveys to search for high-density peaks\n",
    "* Plot on-sky position of extragalactic objects, color-coded by redshift\n",
    "* Find and retrieve DESI spectra of galaxies in interesting structures\n",
    "* Plot positions of galaxies in 3D (real space), and explore large scale structure interactively\n",
    "* **Bonus:** Joint query between photometric (LS) and spectroscopic (SDSS) catalogs to explore galaxy morphologies across large scale structure\n",
    "\n",
    "# Summary\n",
    "\n",
    "In this Notebook, we explore large-scale structures of galaxies by combining spectroscopic redshifts from SDSS/BOSS with the newer Dark Energy Spectroscopic Instrument (DESI) survey. The latter has a much higher sampling and reaches higher redshifts thanks to targeting fainter objects. The advantage of spectroscopic redshifts is that they are far more accurate than photometric redshifts to probe distances to galaxies (though still need to be corrected for possible distortion effects, which we ignore here). \n",
    "\n",
    "For a given region of the sky, we investigate the redshift distribution of extragactic targets to identify possible high-density peaks that may trace large scale structures. We then plot the coordinates of the galaxies with a different color-coding for a small redshift slice that we wish to examine. The default region and redshift slides of interest include a galaxy group identified by DESI (Williams et al., in prep.) where we zoom in before retrieving the spectra with the Spectra Analysis and Retrievable Catalog Lab ([SPARCL](https://astrosparcl.datalab.noirlab.edu/)).\n",
    "\n",
    "Then, we perform a new query of a larger region from DESI to be able to visualize and interact with a representation of these galaxies in the actual space. For that, we developed a 3D plot based on converting RA, DEC and z, into Cartesian coordinates as shown in the \"Large scale structure in 3D\" section.\n",
    "\n",
    "The columns from the SDSS DR17 can be found here https://datalab.noirlab.edu/data-explorer?showTable=sdss_dr17.specobj\n",
    "\n",
    "The columns from the DESI DR1 can be found here https://datalab.noirlab.edu/data-explorer?showTable=desi_dr1.zpix\n",
    "\n",
    "#### Bonus sections\n",
    "\n",
    "Below the main part of the notebook, there are two more advanced examples and an exercise for the reader. The first advanced example consists of finding and examing spectra for a location with multiple spectra for the same object. It uses SPARCL to find and retrieve spectra and zooms around spectral regions of interest. \n",
    "\n",
    "The second advanced example leverages the photometry from the DESI pre-imaging Legacy Survey (LS) for both the SDSS and DESI objects. We find that a simple figure of galaxy spatial locations color-coded by galaxy morphological type reveals the known morphology-density relation. On a technical point of view, this section illustrates an example joint query between the LS DR10 photometry Tractor table, and the SDSS/BOSS DR17 specObj spectroscopy table, and it is followed with suggestions for exercises for the reader."
   ]
  },
  {
   "cell_type": "markdown",
   "metadata": {},
   "source": [
    "<a class=\"anchor\" id=\"attribution\"></a>\n",
    "# Disclaimer & attribution\n",
    "\n",
    "Disclaimers\n",
    "-----------\n",
    "Note that using the Astro Data Lab constitutes your agreement with our minimal [Disclaimers](https://datalab.noirlab.edu/about/disclaimers).\n",
    "\n",
    "Acknowledgments\n",
    "---------------\n",
    "If you use **Astro Data Lab** in your published research, please include the text in your paper's Acknowledgments section:\n",
    "\n",
    "_This research uses services or data provided by the Astro Data Lab, which is part of the Community Science and Data Center (CSDC) Program of NSF NOIRLab. NOIRLab is operated by the Association of Universities for Research in Astronomy (AURA), Inc. under a cooperative agreement with the U.S. National Science Foundation._\n",
    "\n",
    "If you use **SPARCL jointly with the Astro Data Lab platform** (via JupyterLab, command-line, or web interface) in your published research, please include this text below in your paper's Acknowledgments section:\n",
    "\n",
    "_This research uses services or data provided by the SPectra Analysis and Retrievable Catalog Lab (SPARCL) and the Astro Data Lab, which are both part of the Community Science and Data Center (CSDC) Program of NSF NOIRLab. NOIRLab is operated by the Association of Universities for Research in Astronomy (AURA), Inc. under a cooperative agreement with the U.S. National Science Foundation._\n",
    "\n",
    "In either case **please cite the following papers**:\n",
    "\n",
    "* Data Lab concept paper: Fitzpatrick et al., \"The NOAO Data Laboratory: a conceptual overview\", SPIE, 9149, 2014, https://doi.org/10.1117/12.2057445\n",
    "\n",
    "* Astro Data Lab overview: Nikutta et al., \"Data Lab - A Community Science Platform\", Astronomy and Computing, 33, 2020, https://doi.org/10.1016/j.ascom.2020.100411\n",
    "\n",
    "If you are referring to the Data Lab JupyterLab / Jupyter Notebooks, cite:\n",
    "\n",
    "* Juneau et al., \"Jupyter-Enabled Astrophysical Analysis Using Data-Proximate Computing Platforms\", CiSE, 23, 15, 2021, https://doi.org/10.1109/MCSE.2021.3057097\n",
    "\n",
    "If publishing in a AAS journal, also add the keyword: `\\facility{Astro Data Lab}`\n",
    "\n",
    "And if you are using SPARCL, please also add `\\software{SPARCL}` and cite:\n",
    "\n",
    "* Juneau et al., \"SPARCL: SPectra Analysis and Retrievable Catalog Lab\", Conference Proceedings for ADASS XXXIII, 2024\n",
    "https://doi.org/10.48550/arXiv.2401.05576\n",
    "\n",
    "The NOIRLab Library maintains [lists of proper acknowledgments](https://noirlab.edu/science/about/scientific-acknowledgments) to use when publishing papers using the Lab's facilities, data, or services."
   ]
  },
  {
   "cell_type": "markdown",
   "metadata": {},
   "source": [
    "<a class=\"anchor\" id=\"import\"></a>\n",
    "# Imports and setup"
   ]
  },
  {
   "cell_type": "code",
   "execution_count": null,
   "metadata": {},
   "outputs": [],
   "source": [
    "# std lib\n",
    "from getpass import getpass\n",
    "\n",
    "# 3rd party\n",
    "import numpy as np\n",
    "import matplotlib\n",
    "import matplotlib.pyplot as plt\n",
    "import matplotlib.patches as patches\n",
    "from scipy.stats import binned_statistic_2d\n",
    "from IPython.display import Image\n",
    "from astropy.table import Table\n",
    "from astropy.cosmology import Planck18 as cosmo\n",
    "from astropy.convolution import convolve, Gaussian1DKernel\n",
    "import plotly\n",
    "import plotly.graph_objs as go\n",
    "import pandas as pd\n",
    "plotly.offline.init_notebook_mode()\n",
    "\n",
    "# Data Lab\n",
    "from dl import queryClient as qc\n",
    "from dl import authClient as ac\n",
    "\n",
    "# SPARCL\n",
    "from sparcl.client import SparclClient\n",
    "\n",
    "# Instantiate SPARCL client\n",
    "client = SparclClient()"
   ]
  },
  {
   "cell_type": "markdown",
   "metadata": {},
   "source": [
    "# Authentication\n",
    "Much of the functionality of Data Lab can be accessed without explicitly logging in (the service then uses an anonymous login). But some capacities, for instance saving the results of your queries to your virtual storage space, require a login (i.e. you will need a registered user account).\n",
    "\n",
    "If you need to log in to Data Lab, un-comment the cell below and execute it:"
   ]
  },
  {
   "cell_type": "code",
   "execution_count": null,
   "metadata": {},
   "outputs": [],
   "source": [
    "#token = ac.login(input(\"Enter user name: (+ENTER) \"),getpass(\"Enter password: (+ENTER) \"))\n",
    "#ac.whoAmI()"
   ]
  },
  {
   "cell_type": "markdown",
   "metadata": {},
   "source": [
    "<a class=\"anchor\" id=\"query\"></a>\n",
    "# Query SDSS and DESI spectroscopic catalogs\n",
    "\n",
    "The SDSS DR17 database is called **sdss_dr17** and includes several tables. We will use the **specobj** table, which has spectroscopic information.\n",
    "\n",
    "The DESI DR1 database is called **desi_dr1** and also includes several tables. We will use the **zpix** table, which has spectroscopic information.\n",
    "\n",
    "**Note:** The column names and descriptions can be found directly in a notebook with `qc.schema()` or from the [Data Lab's Data Explorer](https://datalab.noirlab.edu/data-explorer) or using the Table Access Protocol (TAP) service with a compatible tool such as TOPCAT."
   ]
  },
  {
   "cell_type": "markdown",
   "metadata": {},
   "source": [
    "### Query to SDSS DR17"
   ]
  },
  {
   "cell_type": "code",
   "execution_count": null,
   "metadata": {},
   "outputs": [],
   "source": [
    "# Define a region of interest: RA, Dec in degrees\n",
    "ra_min = 183.5\n",
    "ra_max = 187.\n",
    "dec_min = 3.7\n",
    "dec_max = 6.2"
   ]
  },
  {
   "cell_type": "code",
   "execution_count": null,
   "metadata": {},
   "outputs": [],
   "source": [
    "# Write query statement (sql)\n",
    "query = (f\"\"\"\n",
    "  SELECT S.specobjid as specobjid_dr17, S.z, S.ra as plug_ra, S.dec as plug_dec, S.class \n",
    "  FROM sdss_dr17.specobj AS S \n",
    "  WHERE S.z>0.001 AND S.ra BETWEEN {ra_min} AND {ra_max} AND S.dec BETWEEN {dec_min} AND {dec_max}  \n",
    "  LIMIT 100000\"\"\")\n",
    "\n",
    "# sdss_dr17.specobj  = SDSS DR17 specobj table\n",
    "# S.specobjid        = unique spectra identifier for SDSS (encodes plate, mjd, fiberid, run2d)\n",
    "# S.z                = redshift (z) from SDSS specObj table\n",
    "# S.plug_ra, dec     = RA, Dec of SDSS fiber from specObj table\n",
    "# S.class            = Source class (Star, Galaxy, QSO) from SDSS\n",
    "#\n",
    "# WHERE: requirement that RA & Dec coordinates are within a rectangular region\n",
    "#        and extragalactic sources with z>0.001 cut\n",
    "\n",
    "print(query)"
   ]
  },
  {
   "cell_type": "code",
   "execution_count": null,
   "metadata": {},
   "outputs": [],
   "source": [
    "# Call query client and save output as Astropy Table\n",
    "result_sdss = qc.query(sql=query, fmt='table')"
   ]
  },
  {
   "cell_type": "code",
   "execution_count": null,
   "metadata": {
    "tags": []
   },
   "outputs": [],
   "source": [
    "# Print length of table (Nb of rows) and the first 5 rows\n",
    "print(len(result_sdss))\n",
    "result_sdss[:5]"
   ]
  },
  {
   "cell_type": "markdown",
   "metadata": {},
   "source": [
    "### Query DESI DR1 for the same region"
   ]
  },
  {
   "cell_type": "code",
   "execution_count": null,
   "metadata": {},
   "outputs": [],
   "source": [
    "# Write query statement (sql)\n",
    "query_desi = (f\"\"\"\n",
    "  SELECT Z.targetid, Z.mean_fiber_ra AS ra, Z.mean_fiber_dec AS dec, Z.spectype, Z.z, \n",
    "         P.morphtype, P.sersic, P.flux_r, P.flux_z\n",
    "  FROM desi_dr1.zpix as Z\n",
    "  LEFT JOIN desi_dr1.photometry as P\n",
    "  ON Z.targetid = P.targetid\n",
    "  WHERE z>0.001 AND mean_fiber_ra BETWEEN {ra_min} AND {ra_max} AND mean_fiber_dec BETWEEN {dec_min} AND {dec_max}  \n",
    "  LIMIT 100000\"\"\")\n",
    "\n",
    "# desi_dr1.zpix        = DESI DR1 zpix table (zall-pix file)\n",
    "# desi_dr1.photometry  = DESI DR1 photometry table\n",
    "# Z.targetid           = unique spectra identifier for SDSS (encodes plate, mjd, fiberid, run2d)\n",
    "# Z.mean_fiber_ra, dec = RA, Dec of DESI fiber from zpix table\n",
    "# Z.z                  = redshift (z) from DESI zpix table\n",
    "# S.spectype           = Source spectral type (Star, Galaxy, QSO) from DESI\n",
    "#\n",
    "# WHERE: requirement that RA & Dec coordinates are within a rectangular region\n",
    "#        and extragalactic sources with z>0.001 cut\n",
    "\n",
    "print(query_desi)"
   ]
  },
  {
   "cell_type": "code",
   "execution_count": null,
   "metadata": {},
   "outputs": [],
   "source": [
    "# Call query client and save output as Astropy Table\n",
    "result_desi = qc.query(sql=query_desi, fmt='table')"
   ]
  },
  {
   "cell_type": "code",
   "execution_count": null,
   "metadata": {},
   "outputs": [],
   "source": [
    "# Print length of table (Nb of rows) and the first 5 rows\n",
    "print(len(result_desi))\n",
    "result_desi[:5]"
   ]
  },
  {
   "cell_type": "markdown",
   "metadata": {},
   "source": [
    "<a class=\"anchor\" id=\"plots\"></a>\n",
    "# Plot results\n",
    "\n",
    "## Start with redshift distribution to find overdensities\n",
    "\n",
    "Above, you might have noticed that there are many more DESI redshifts than SDSS redshifts in the same region of the sky! This is because the DESI survey has a much denser spectroscopic sampling. It targets fainter objects in order to reach higher redshifts. Let's compare the redshift distributions."
   ]
  },
  {
   "cell_type": "code",
   "execution_count": null,
   "metadata": {},
   "outputs": [],
   "source": [
    "fig, (ax1, ax2) = plt.subplots(2, 1, figsize=(12, 6.5))\n",
    "ax1.hist(result_sdss['z'], bins=120, range=(0,0.2), alpha=0.6, label='SDSS')\n",
    "ax1.hist(result_desi['z'], bins=120, range=(0,0.2), histtype='step', color='k', lw=2, label='DESI')\n",
    "\n",
    "# peak at z~0.077\n",
    "ax1.axvline(0.072, color='r', ls='--')\n",
    "ax1.axvline(0.082, color='r', ls='--')\n",
    "# peak at z~0.1\n",
    "ax1.axvline(0.097, color='r', ls='--')\n",
    "ax1.axvline(0.105, color='r', ls='--')\n",
    "\n",
    "# Legend and axis label\n",
    "ax1.legend()\n",
    "ax1.set_xlabel('redshift')\n",
    "\n",
    "# Second panel to extend the redshift range\n",
    "ax2.hist(result_sdss['z'], bins=80, range=(0.2,1.6), alpha=0.6, label='SDSS')\n",
    "ax2.hist(result_desi['z'], bins=80, range=(0.2,1.6), histtype='step', color='k', lw=2, label='DESI')\n",
    "ax2.set_xlim(0.2,1.6)\n",
    "# highlight possible redshift peaks\n",
    "ax2.axvline(0.48, color='r', ls='--')\n",
    "ax2.axvline(0.53, color='r', ls='--')\n",
    "\n",
    "# Legend and axis label\n",
    "ax2.legend()\n",
    "ax2.set_xlabel('redshift');"
   ]
  },
  {
   "cell_type": "markdown",
   "metadata": {
    "execution": {
     "iopub.execute_input": "2025-07-29T19:21:22.200046Z",
     "iopub.status.busy": "2025-07-29T19:21:22.199794Z",
     "iopub.status.idle": "2025-07-29T19:21:22.203620Z",
     "shell.execute_reply": "2025-07-29T19:21:22.203137Z",
     "shell.execute_reply.started": "2025-07-29T19:21:22.200032Z"
    }
   },
   "source": [
    "**NOTES:** Above, we see a few peaks that may correspond to large-scale structures / overdensities. We also see that DESI covers many more objects already starting at redshift z>0.1 and with an increasingly pronounced difference at z>0.6."
   ]
  },
  {
   "cell_type": "markdown",
   "metadata": {},
   "source": [
    "## Visual Inspection of Large-Scale Structures\n",
    "\n",
    "Plot the positions of a broad range of redshift, and overplot a thin slice in redshift to show possible structures within that slice."
   ]
  },
  {
   "cell_type": "code",
   "execution_count": null,
   "metadata": {},
   "outputs": [],
   "source": [
    "# Select redshift slice near peak at z~0.1\n",
    "zmin = 0.097\n",
    "zmax = 0.105\n",
    "\n",
    "# Redshift range\n",
    "rz_sdss = (result_sdss['z'] >zmin) & (result_sdss['z']<zmax)\n",
    "rz_desi = (result_desi['z'] >zmin) & (result_desi['z']<zmax)"
   ]
  },
  {
   "cell_type": "code",
   "execution_count": null,
   "metadata": {},
   "outputs": [],
   "source": [
    "# Extent of RA, Dec (in degrees) to plot based on region queried above\n",
    "xmin = ra_min\n",
    "xmax = ra_max\n",
    "ymin = dec_min\n",
    "ymax = dec_max\n",
    "\n",
    "# region of interest for Zooming in (here choosing a known DESI group; Williams et al. in prep.)\n",
    "ra_reg = 185.48 # degrees\n",
    "dec_reg = 5.01\n",
    "# full width for rectangular region\n",
    "dra_reg = 0.4\n",
    "ddec_reg = 0.22\n",
    "\n",
    "# Initialize figure\n",
    "fig, (ax1, ax2) = plt.subplots(1, 2, figsize=(16, 6.5))\n",
    "\n",
    "## SDSS Version\n",
    "\n",
    "# plot all points in red (all redshifts)\n",
    "ax1.scatter(result_sdss['plug_ra'], result_sdss['plug_dec'], s=3, color='r', marker='o', alpha=0.25, label='All redshifts')\n",
    "\n",
    "# overplot in blue objects in narrow redshift slice\n",
    "ax1.scatter(result_sdss['plug_ra'][rz_sdss], result_sdss['plug_dec'][rz_sdss], s=20, color='b', marker='x', alpha=0.6, label='0.097<z<0.105')\n",
    "ax1.axis([xmin, xmax, ymin, ymax])\n",
    "ax1.set_xlim(reversed(ax1.set_xlim())) # flip the x-axis\n",
    "ax1.set_xlabel(\"RA (degrees)\", fontsize=16)\n",
    "ax1.set_ylabel(\"Dec (degrees)\", fontsize=16)\n",
    "ax1.legend()\n",
    "\n",
    "# add rectangle to show where we zoom in next panel (input lower corner and sizes)\n",
    "ax1.add_patch(patches.Rectangle((ra_reg-dra_reg/2., dec_reg-ddec_reg/2.), dra_reg, ddec_reg, fill=False, color='darkcyan', lw=2))\n",
    "\n",
    "\n",
    "## DESI Version\n",
    "\n",
    "# plot all points in red (all redshifts)\n",
    "ax2.scatter(result_desi['ra'], result_desi['dec'], s=1, color='r', marker='o', alpha=0.2, label='All redshifts')\n",
    "\n",
    "# overplot in black DESI objects in narrow redshift slice\n",
    "ax2.scatter(result_desi['ra'][rz_desi], result_desi['dec'][rz_desi], s=10, color='k', marker='o', label='0.097<z<0.105')\n",
    "\n",
    "# Add SDSS locations in the same redshift slice\n",
    "ax2.scatter(result_sdss['plug_ra'][rz_sdss], result_sdss['plug_dec'][rz_sdss], s=20, color='b', marker='x', alpha=0.6, label='SDSS')\n",
    "ax2.axis([xmin, xmax, ymin, ymax])\n",
    "ax2.set_xlim(reversed(ax2.set_xlim())) # flip the x-axis\n",
    "ax2.set_xlabel(\"RA (degrees)\", fontsize=16)\n",
    "ax2.set_ylabel(\"Dec (degrees)\", fontsize=16)\n",
    "\n",
    "# add rectangle to show where we zoom in next panel\n",
    "ax2.add_patch(patches.Rectangle((ra_reg-dra_reg/2., dec_reg-ddec_reg/2.), dra_reg, ddec_reg, fill=False, color='darkcyan', lw=2))\n",
    "ax2.legend(loc='upper left', markerscale=2)\n",
    "\n",
    "ax1.set_title('SDSS', fontsize=18)\n",
    "ax2.set_title('DESI', fontsize=18)\n",
    "\n",
    "plt.show()"
   ]
  },
  {
   "cell_type": "markdown",
   "metadata": {},
   "source": [
    "Above, the left-hand panel shows a thin redshift slice (0.097 < *z* < 0.105, blue crosses) among objects with redshifts from the spectroscopic SDSS DR17 sample (red symbols). We can see by eye some large-scale filamentary structures and overdensities. The right-hand panel shows the same region but with all DESI redshifts (red dots). The same redshift slice at 0.097 < *z* < 0.105 is highlighted for both DESI (black circles) and SDSS (blue crosses, which are the same as on the left-hand panel). Together, we can see even more large scale structure including a newly revealed filament at the bottom center of the field of view.\n",
    "\n",
    "The rectangle shows a selected region where we zoom in below to display color images."
   ]
  },
  {
   "cell_type": "markdown",
   "metadata": {},
   "source": [
    "## Zooming in around a Galaxy Group\n",
    "Here we \"zoom in\" on the region of sky in the rectangle from the previous section's resulting plots. Within the galaxy group, we know of four Satellite galaxies from DESI and one Central galaxy from SDSS. First we identify these objects in their respective tables."
   ]
  },
  {
   "cell_type": "code",
   "execution_count": null,
   "metadata": {},
   "outputs": [],
   "source": [
    "# Group from DESI Group catalog (Ian Williams et al., in prep.): 4 Satellites from DESI\n",
    "\n",
    "# Satellites\n",
    "tids_group = [39627908548923781, 39627908548923981, 39627908548924068, 39627908548923268]\n",
    "is_group = np.isin(result_desi['targetid'], tids_group)\n",
    "\n",
    "result_desi[is_group]"
   ]
  },
  {
   "cell_type": "code",
   "execution_count": null,
   "metadata": {},
   "outputs": [],
   "source": [
    "# Central galaxy from SDSS\n",
    "ra_central = 185.4596\n",
    "dec_central = 4.9611\n",
    "is_central = (abs(result_sdss['plug_ra']-ra_central)<1./3600) & (abs(result_sdss['plug_dec']-dec_central)<1./3600)\n",
    "\n",
    "result_sdss[is_central]"
   ]
  },
  {
   "cell_type": "code",
   "execution_count": null,
   "metadata": {},
   "outputs": [],
   "source": [
    "## ZOOM IN OVER THE SMALLER SELECTED REGION\n",
    "fig, ((ax1, ax2), (ax3, ax4)) = plt.subplots(2, 2, figsize=(15.5, 9))\n",
    "plt.subplots_adjust(hspace=0.25, wspace=0.1)\n",
    "\n",
    "# Extent of RA, Dec (in degrees) for smaller region \"_reg\"\n",
    "xmin_reg = ra_reg - dra_reg/2.\n",
    "xmax_reg = ra_reg + dra_reg/2.\n",
    "ymin_reg = dec_reg - ddec_reg/2.\n",
    "ymax_reg = dec_reg + ddec_reg/2.\n",
    "\n",
    "\n",
    "## SDSS Version\n",
    "\n",
    "# plot all points in red (all redshifts)\n",
    "ax1.scatter(result_sdss['plug_ra'], result_sdss['plug_dec'], s=4, color='r', marker='o', alpha=0.25, label='All redshifts')\n",
    "\n",
    "# overplot in blue objects in narrow redshift slice\n",
    "ax1.scatter(result_sdss['plug_ra'][rz_sdss], result_sdss['plug_dec'][rz_sdss],s=30, color='b', marker='x', alpha=0.7, label='0.097<z<0.105')\n",
    "ax1.axis([xmin_reg, xmax_reg, ymin_reg, ymax_reg])\n",
    "\n",
    "# Define axis properties and legend\n",
    "ax1.set_xlim(reversed(ax1.set_xlim())) # flip the x-axis\n",
    "ax1.set_xlabel(\"RA (degrees)\", fontsize=12)\n",
    "ax1.set_ylabel(\"Dec (degrees)\", fontsize=12)\n",
    "ax1.legend(loc='upper left')\n",
    "\n",
    "\n",
    "## DESI Version\n",
    "\n",
    "# plot all points in red (all redshifts)\n",
    "ax2.scatter(result_desi['ra'], result_desi['dec'], s=2, color='r', marker='o', alpha=0.2, label='All redshifts')\n",
    "\n",
    "# Add the group including Satellites and Central galaxies\n",
    "ax2.scatter(result_sdss['plug_ra'][is_central], result_sdss['plug_dec'][is_central], s=180, color='r', marker='o', facecolor='w')\n",
    "ax2.scatter(result_desi['ra'][is_group], result_desi['dec'][is_group], s=70,color='r', marker='o', facecolor='w', label='Group')\n",
    "\n",
    "# overplot in black DESI objects in narrow redshift slice\n",
    "ax2.scatter(result_desi['ra'][rz_desi], result_desi['dec'][rz_desi], s=10, color='k', marker='o', label='0.097<z<0.105')\n",
    "\n",
    "# Add SDSS locations in the same redshift slice\n",
    "ax2.scatter(result_sdss['plug_ra'][rz_sdss], result_sdss['plug_dec'][rz_sdss], s=30, color='b', marker='x', alpha=0.6, label='SDSS')\n",
    "\n",
    "# Define axis properties and legend\n",
    "ax2.axis([xmin_reg, xmax_reg, ymin_reg, ymax_reg])\n",
    "ax2.set_xlim(reversed(ax2.set_xlim())) # flip the x-axis\n",
    "ax2.set_xlabel(\"RA (degrees)\", fontsize=12)\n",
    "ax2.legend(loc='upper right', markerscale=2)\n",
    "\n",
    "# Titles\n",
    "ax1.set_title('SDSS')\n",
    "ax2.set_title('DESI')\n",
    "\n",
    "\n",
    "## SHOW LS IMAGE (screenshot pre-made but could instead implement image cutout)\n",
    "im = plt.imread('images/LS_view_LSS.jpg')\n",
    "ax3.imshow(im)\n",
    "ax3.axis('off')\n",
    "ax3.set_title('DESI Legacy Surveys')\n",
    "\n",
    "## Rubin LSST First-Look image from their Sky Viewer\n",
    "im = plt.imread('images/Rubin_view_LSS.jpg')\n",
    "ax4.imshow(im)\n",
    "ax4.axis('off')\n",
    "ax4.set_title('Rubin LSST First-Look')\n",
    "\n",
    "plt.show()"
   ]
  },
  {
   "cell_type": "markdown",
   "metadata": {},
   "source": [
    "All panels show the small region enclosed in the rectangle that we chose above. The top left for SDSS only, the top right for DESI with the selected redshift slice including both DESI and SDSS. The bottom panels are color images of the same region of the sky from the [LS Sky Viewer](https://legacysurvey.org/viewer?ra=185.480&dec=5.01&zoom=13&layer=ls-dr9). The galaxies encircled correspond to the points in black circles and blue crosses, which may belong to groups and filaments. Cyan circles mark galaxies with only a SDSS spectrum. Yellow circles have at least DESI spectra (some of them both SDSS and DESI). The bottom right image is a screenshot of the same region from the Rubin LSST First-Look image from the [LSST sky viewer](https://skyviewer.app/explorer?target=185.45957+4.96076&fov=0.84)."
   ]
  },
  {
   "cell_type": "code",
   "execution_count": null,
   "metadata": {},
   "outputs": [],
   "source": [
    "# Animated version of the Legacy Surveys vs. LSST image comparison\n",
    "Image('images/LS_vs_LSST.gif')"
   ]
  },
  {
   "cell_type": "markdown",
   "metadata": {},
   "source": [
    "<a class=\"anchor\" id=\"spectra\"></a>\n",
    "# Retrieving spectra with SPARCL\n",
    "\n",
    "Next, we find the spectra available in SPARCL from SDSS and from DESI for the small region and redshift slice of interest."
   ]
  },
  {
   "cell_type": "code",
   "execution_count": null,
   "metadata": {},
   "outputs": [],
   "source": [
    "# Define the fields we want returned (`outfields`) and the constraints (`constraints`)\n",
    "out = ['sparcl_id', 'ra', 'dec', 'redshift', 'spectype', 'specprimary']\n",
    "cons = {'redshift': [zmin, zmax],\n",
    "        'ra': [xmin_reg, xmax_reg],\n",
    "        'dec': [ymin_reg, ymax_reg],\n",
    "        'specprimary': [True],\n",
    "        'data_release': ['DESI-DR1', 'SDSS-DR16', 'BOSS-DR16']}"
   ]
  },
  {
   "cell_type": "code",
   "execution_count": null,
   "metadata": {},
   "outputs": [],
   "source": [
    "# Execute the `client.find()` method with our parameters\n",
    "found = client.find(outfields=out, constraints=cons, limit=100)"
   ]
  },
  {
   "cell_type": "code",
   "execution_count": null,
   "metadata": {},
   "outputs": [],
   "source": [
    "# How many records were found\n",
    "print(found.count)"
   ]
  },
  {
   "cell_type": "code",
   "execution_count": null,
   "metadata": {},
   "outputs": [],
   "source": [
    "# Convert to pandas DataFrame\n",
    "df = pd.json_normalize(found.records)\n",
    "df[:2]"
   ]
  },
  {
   "cell_type": "markdown",
   "metadata": {},
   "source": [
    "### Use the sparcl_ids from the output of using `client.find()` to retrieve records from SPARCL"
   ]
  },
  {
   "cell_type": "code",
   "execution_count": null,
   "metadata": {},
   "outputs": [],
   "source": [
    "# Define the fields to include in the retrieve function\n",
    "inc = ['specid', 'ra', 'dec', 'redshift', 'wavelength', 'flux', 'ivar', 'spectype', 'data_release', 'dateobs_center']"
   ]
  },
  {
   "cell_type": "code",
   "execution_count": null,
   "metadata": {},
   "outputs": [],
   "source": [
    "# Execute client.retrieve to obtain the spectra for the list of id's\n",
    "ids_I = found.ids\n",
    "results = client.retrieve(uuid_list=ids_I, include=inc)\n",
    "results.info"
   ]
  },
  {
   "cell_type": "code",
   "execution_count": null,
   "metadata": {},
   "outputs": [],
   "source": [
    "# Convert the spectra to pandas DataFrame\n",
    "df_spec = pd.json_normalize(results.records)"
   ]
  },
  {
   "cell_type": "code",
   "execution_count": null,
   "metadata": {},
   "outputs": [],
   "source": [
    "df_spec[:2]"
   ]
  },
  {
   "cell_type": "code",
   "execution_count": null,
   "metadata": {},
   "outputs": [],
   "source": [
    "is_desi = df_spec['data_release']=='DESI-DR1'\n",
    "is_sdss = (df_spec['data_release']=='SDSS-DR16') | (df_spec['data_release']=='BOSS-DR16')\n",
    "\n",
    "print(f'N(SDSS) = {len(df_spec[is_sdss])}')\n",
    "print(f'N(DESI) = {len(df_spec[is_desi])}')"
   ]
  },
  {
   "cell_type": "markdown",
   "metadata": {},
   "source": [
    "### Example 1: central and satellite galaxies from a DESI group"
   ]
  },
  {
   "cell_type": "code",
   "execution_count": null,
   "metadata": {},
   "outputs": [],
   "source": [
    "# Define central and group criteria for the new df_spec dataframe\n",
    "is_central_spec = (abs(df_spec['ra']-ra_central)<1./3600) & (abs(df_spec['dec']-dec_central)<1./3600)\n",
    "is_group_spec = np.isin(df_spec['specid'], tids_group)\n",
    "\n",
    "# SDSS spectrum for central in rest-frame\n",
    "z_central = df_spec['redshift'][is_central_spec].iloc[0]\n",
    "wl_central = df_spec[is_central_spec].iloc[0].wavelength/(1.+z_central)\n",
    "flux_central = df_spec[is_central_spec].iloc[0].flux*(1.+z_central)\n",
    "ivar_central = df_spec[is_central_spec].iloc[0].ivar/(1.+z_central)**2\n"
   ]
  },
  {
   "cell_type": "code",
   "execution_count": null,
   "metadata": {},
   "outputs": [],
   "source": [
    "fig, ax = plt.subplots(1, 1, figsize=(14,5))\n",
    "\n",
    "# Plot spectrum of central galaxy\n",
    "ax.plot(wl_central, flux_central, color='b', alpha=0.3)\n",
    "# Overplot smoothed spectrum of central galaxy\n",
    "ax.plot(wl_central, convolve(flux_central, Gaussian1DKernel(5)), color='b', label='Central (SDSS)')\n",
    "\n",
    "for i in range(len(df_spec[is_group_spec])):\n",
    "    z_group = df_spec['redshift'][is_group_spec].iloc[i]\n",
    "    wl_group = df_spec[is_group_spec].iloc[i].wavelength/(1.+z_group)\n",
    "    flux_group = df_spec[is_group_spec].iloc[i].flux*(1.+z_group)\n",
    "    ivar_group = df_spec[is_group_spec].iloc[i].ivar/(1.+z_group)**2\n",
    "\n",
    "    wl = wl_group[ivar_group!=0]\n",
    "    flux = flux_group[ivar_group!=0]\n",
    "    \n",
    "    # Plot spectra of satellites (group members from DESI, which does not include the central)\n",
    "    ax.plot(wl, flux, color='tab:blue', alpha=0.3)\n",
    "\n",
    "    # Overplot spectrum smoothed using a 1-D Gaussian Kernel\n",
    "    if i==0:\n",
    "        ax.plot(wl, convolve(flux, Gaussian1DKernel(5)), color='tab:blue', label='Satellite (DESI)')\n",
    "    else:\n",
    "        ax.plot(wl, convolve(flux, Gaussian1DKernel(5)), color='tab:blue')\n",
    "\n",
    "\n",
    "ax.legend()\n",
    "ax.set_xlim(3200, 9000)\n",
    "ax.set_ylim(-5,40)\n",
    "\n",
    "# add axis label\n",
    "ax.set_xlabel('Wavelength [Angstrom]')"
   ]
  },
  {
   "cell_type": "markdown",
   "metadata": {},
   "source": [
    "### Example 2: multiple spectra for the same object\n",
    "\n",
    "For an additional example, see the section \"BONUS: multiple spectra for the same object\" toward the end of the notebook, which uses the same dataframe `df_spec` above."
   ]
  },
  {
   "cell_type": "markdown",
   "metadata": {
    "tags": []
   },
   "source": [
    "<a class=\"anchor\" id=\"3d_plot\"></a>\n",
    "# Large-scale structure in 3D\n",
    "\n",
    "We can explore filaments and clusters of galaxies better if we can plot them in 3D. We turn to a different area of the sky, and will query for a sample of DESI galaxies in the near to slightly distant universe, and plot in 3D the cone containing them. To avoid contamination by the galactic plane of the Milky Way, we point our search cone at high galactic latitudes."
   ]
  },
  {
   "cell_type": "markdown",
   "metadata": {
    "tags": []
   },
   "source": [
    "### Data query and preparation\n",
    "We select (mostly) DESI galaxies within a 10-degree radius around a high galactic latitude direction, (ra,dec) = (160,45) degrees. We limit our search to positive redshifts between 0.02 and 0.2."
   ]
  },
  {
   "cell_type": "code",
   "execution_count": null,
   "metadata": {
    "tags": []
   },
   "outputs": [],
   "source": [
    "# Create the query to fetch the DESI DR1 data from Data Lab:\n",
    "radius = 10.\n",
    "ra = 160.\n",
    "dec = 45.\n",
    "\n",
    "query = (f\"\"\"\n",
    "  SELECT mean_fiber_ra AS ra, mean_fiber_dec AS dec, z\n",
    "  FROM desi_dr1.zpix\n",
    "  WHERE q3c_radial_query(mean_fiber_ra, mean_fiber_dec, {ra}, {dec}, {radius})\n",
    "  AND z between 0.02 AND 0.2\"\"\")\n",
    "\n",
    "print(query)"
   ]
  },
  {
   "cell_type": "markdown",
   "metadata": {},
   "source": [
    "Run the query to fetch the DESI data from the `desi_dr1.zpix` table"
   ]
  },
  {
   "cell_type": "code",
   "execution_count": null,
   "metadata": {
    "tags": []
   },
   "outputs": [],
   "source": [
    "selection = qc.query(sql=query, fmt='csv')"
   ]
  },
  {
   "cell_type": "markdown",
   "metadata": {},
   "source": [
    "Reformat output into a table"
   ]
  },
  {
   "cell_type": "code",
   "execution_count": null,
   "metadata": {},
   "outputs": [],
   "source": [
    "data = Table.read(selection, format='csv')  #Astropy Table\n",
    "print(f\"Number of galaxies in the sample: {len(data)}\")\n",
    "data[:5]"
   ]
  },
  {
   "cell_type": "markdown",
   "metadata": {
    "tags": []
   },
   "source": [
    "Compute luminosity distance for every galaxy, using [Planck2018 cosmology](https://ui.adsabs.harvard.edu/abs/2020A%26A...641A...6P/abstract) values"
   ]
  },
  {
   "cell_type": "code",
   "execution_count": null,
   "metadata": {
    "tags": []
   },
   "outputs": [],
   "source": [
    "dist = cosmo.luminosity_distance(data['z'])\n",
    "dist"
   ]
  },
  {
   "cell_type": "markdown",
   "metadata": {},
   "source": [
    "To plot a 3D representation of each galaxy, we convert to Cartesian coordinates X,Y,Z (all measured in Mpc from the coordinate system origin)."
   ]
  },
  {
   "cell_type": "code",
   "execution_count": null,
   "metadata": {},
   "outputs": [],
   "source": [
    "def get_cartesian(ra,dec,dist):\n",
    "    # convert ra and dec to radians, since numpy expects this as arguments to trigonometric functions\n",
    "    rarad = np.radians(ra)\n",
    "    decrad = np.radians(dec)\n",
    "    X = dist * np.sin(decrad) * np.cos(rarad)\n",
    "    Y = dist * np.sin(decrad) * np.sin(rarad)\n",
    "    Z = dist * np.cos(decrad)\n",
    "    return X,Y,Z"
   ]
  },
  {
   "cell_type": "code",
   "execution_count": null,
   "metadata": {},
   "outputs": [],
   "source": [
    "X,Y,Z = get_cartesian(data['ra'], data['dec'], dist)"
   ]
  },
  {
   "cell_type": "markdown",
   "metadata": {
    "tags": []
   },
   "source": [
    "### Plotting in 3D\n",
    "To create an interactive 3D plot (one where we can zoom, pan, and rotate the scene), we will use the plotly package. The galaxies in our sample will be plotted using a 3D scatter routine. We also set some overall properties of the plot, such as the size of the markers, and a color map (we color each galaxy redder the further away it is)."
   ]
  },
  {
   "cell_type": "code",
   "execution_count": null,
   "metadata": {
    "tags": []
   },
   "outputs": [],
   "source": [
    "trace = go.Scatter3d(\n",
    "    x = X,\n",
    "    y = Y,\n",
    "    z = Z,\n",
    "    mode = 'markers',\n",
    "    marker = {\n",
    "        'size'      : 0.7,\n",
    "        'opacity'   : 0.5,\n",
    "        'color'     : dist, \n",
    "        'colorscale': 'OrRd'\n",
    "    }\n",
    ")\n",
    "\n",
    "data = [trace]"
   ]
  },
  {
   "cell_type": "markdown",
   "metadata": {
    "tags": []
   },
   "source": [
    "Next, we define camera location and the layout of the plot"
   ]
  },
  {
   "cell_type": "code",
   "execution_count": null,
   "metadata": {
    "tags": []
   },
   "outputs": [],
   "source": [
    "# set up the view point\n",
    "camera = dict(\n",
    "    up = dict(x = 0, y = 0, z = 1),\n",
    "    center = dict(x = 0.2, y = 0, z = 0),\n",
    "    eye = dict(x = 0.6, y = -0.6, z = -1.0)\n",
    ")\n",
    "\n",
    "# set up the plot scene\n",
    "layout = go.Layout(\n",
    "    scene = dict(\n",
    "        xaxis = dict(title = 'X',\n",
    "                     backgroundcolor = 'black',\n",
    "                     gridcolor = \"rgb(40,40,40)\"),\n",
    "        yaxis = dict(title = 'Y',\n",
    "                     backgroundcolor = 'black',\n",
    "                     gridcolor = \"rgb(40,40,40)\"),\n",
    "        zaxis = dict(title = 'Z',\n",
    "                     backgroundcolor = 'black',\n",
    "                     gridcolor = \"rgb(40,40,40)\"),\n",
    "    ),\n",
    "        scene_camera = camera,\n",
    "        plot_bgcolor = 'black',\n",
    "        paper_bgcolor = 'black',\n",
    "        title = None,\n",
    "        showlegend = False,\n",
    "        width = 800,\n",
    "        height = 800,\n",
    "        autosize = False,\n",
    "        margin = {'l':0, 'r':0, 'b':0, 't':0},\n",
    "        dragmode = 'orbit'\n",
    ")"
   ]
  },
  {
   "cell_type": "code",
   "execution_count": null,
   "metadata": {
    "tags": []
   },
   "outputs": [],
   "source": [
    "# Draw the plot\n",
    "plot_figure = go.Figure(data=data, layout=layout)\n",
    "plot_figure.update_layout()"
   ]
  },
  {
   "cell_type": "markdown",
   "metadata": {},
   "source": [
    "Explore the scene by:\n",
    "- **Zooming in and out** (mouse scroll wheel up/down, or click mouse middle button and move mouse up/down, or select \"zoom\" mode via button in upper-right corner & left-click + drag mouse)\n",
    "- **Panning left/right and up/down** (click mouse left button and drag)\n",
    "- **Change pan/rotate mode** by selecting one of the buttons in the upper-right corner of the plot (pan, orbital rotation, turntable rotation)\n",
    "\n",
    "Observe how the galaxies form compact groups and clusters, and on larger scales form huge filaments. This is the large scale structure of the universe. In details, we can also notice some elongation along the direction of redshift due to [redshift space distortions](https://en.wikipedia.org/wiki/Redshift-space_distortions). "
   ]
  },
  {
   "cell_type": "markdown",
   "metadata": {
    "execution": {
     "iopub.execute_input": "2025-07-26T20:52:15.022607Z",
     "iopub.status.busy": "2025-07-26T20:52:15.022348Z",
     "iopub.status.idle": "2025-07-26T20:52:15.026426Z",
     "shell.execute_reply": "2025-07-26T20:52:15.025780Z",
     "shell.execute_reply.started": "2025-07-26T20:52:15.022593Z"
    }
   },
   "source": [
    "---"
   ]
  },
  {
   "cell_type": "markdown",
   "metadata": {},
   "source": [
    "<a class=\"anchor\" id=\"bonusspectra\"></a>\n",
    "## BONUS: Multiple spectra for the same object\n",
    "\n",
    "Some objects have been observed with both SDSS/BOSS and with DESI so there can be multiple spectra for the same object. Furthermore, the DESI spectra are split per `survey` (sv1, sv2, sv3, main, special) and `program` (dark, bright, backup) so there can be multiple DESI spectra for the same object with a given `targetid`. Lastly, there is another special case in DESI due to some secondary targets being selected from non-DESI photometry and therefore receiving a distinct `targetid`."
   ]
  },
  {
   "cell_type": "code",
   "execution_count": null,
   "metadata": {},
   "outputs": [],
   "source": [
    "# Location identified as having multiple spectra -- let's check\n",
    "has_multiple = (df_spec['ra']>185.45)&(df_spec['ra']<185.5)&(df_spec['dec']>5.05)&(df_spec['dec']<5.06)\n",
    "\n",
    "df_spec[has_multiple]"
   ]
  },
  {
   "cell_type": "markdown",
   "metadata": {},
   "source": [
    "If we examine closely the 3 entries, we notice two things:\n",
    "- Based on position (RA, Dec), they appear as the same object, meaning SDSS and DESI both observed it\n",
    "- Even for just DESI, there are two entries with different TARGETIDs (`specid` in SPARCL), which means that the same object was targeted from two different selection methods from different photometry. This is rare but can occur when a secondary target is selected from, e.g., GAIA and happens to also be a primary DESI survey target, in this case from the DESI Bright Galaxy Survey (BGS).\n",
    "\n",
    "Let's define these spectra as special cases."
   ]
  },
  {
   "cell_type": "code",
   "execution_count": null,
   "metadata": {},
   "outputs": [],
   "source": [
    "# SDSS spectrum with dateobs_center on 2008-02-13\n",
    "# df_spec['specid']== 3242699284616865792\n",
    "\n",
    "# First DESI spectrum with dateobs_center on 2022-03-22\n",
    "# df_spec['specid']==39627908548924068\n",
    "\n",
    "# Second DESI spectrum with dateobs_center on 2022-05-06\n",
    "# df_spec['specid']==2842647530045447\n",
    "\n",
    "specids = [3242699284616865792, 39627908548924068, 2842647530045447]\n",
    "drs = ['SDSS-DR16', 'DESI-DR1', 'DESI-DR1']\n",
    "cols = ['tab:blue', 'tab:red', 'tab:purple']\n",
    "\n",
    "fig, axs = plt.subplots(3, 1, figsize=(14,12))\n",
    "\n",
    "xlims = [[3300, 5300], [5300, 7300], [7300, 9300]]\n",
    "ylims = [[-3, 21], [4, 21], [4, 21]]\n",
    "\n",
    "for i, xlim in enumerate(xlims):\n",
    "    ax = axs[i]\n",
    "\n",
    "    for j, specid in enumerate(specids):\n",
    "        r = (df_spec['specid']==specid)&(df_spec['data_release']==drs[j])\n",
    "        z = df_spec['redshift'][r].iloc[0]\n",
    "        ivar = df_spec[r].iloc[0].ivar/(1.+z)**2\n",
    "        wl = df_spec[r].iloc[0].wavelength/(1.+z)\n",
    "        flux = df_spec[r].iloc[0].flux*(1.+z)\n",
    "        valid = ivar!=0.\n",
    "        \n",
    "        ax.plot(wl[valid], flux[valid], alpha=0.3, color=cols[j])\n",
    "        ax.plot(wl[valid], convolve(flux[valid], Gaussian1DKernel(3)), color=cols[j], label=drs[j])\n",
    "\n",
    "    ax.set_xlim(xlim)\n",
    "    ax.set_ylim(ylims[i])\n",
    "\n",
    "# For top panel, add legend\n",
    "axs[0].legend()\n",
    "\n",
    "# For the bottom panel, add axis label\n",
    "axs[2].set_xlabel('Wavelength [Angstrom]')"
   ]
  },
  {
   "cell_type": "code",
   "execution_count": null,
   "metadata": {},
   "outputs": [],
   "source": [
    "# Zooming in around H-alpha + normalizing spectra for better comparison\n",
    "fig, ax = plt.subplots(1, 1, figsize=(10,5))\n",
    "\n",
    "cols = ['tab:blue', 'tab:green', 'tab:purple']\n",
    "\n",
    "# Will plot darker color for SDSS (in the back) compared to DESI\n",
    "alphas = [1, 0.4, 0.6]\n",
    "\n",
    "for j, specid in enumerate(specids):\n",
    "    r = (df_spec['specid']==specid)&(df_spec['data_release']==drs[j])\n",
    "    z = df_spec['redshift'][r].iloc[0]\n",
    "    ivar = df_spec[r].iloc[0].ivar/(1.+z)**2\n",
    "    wl = df_spec[r].iloc[0].wavelength/(1.+z)\n",
    "    flux = df_spec[r].iloc[0].flux*(1.+z)\n",
    "    valid = ivar!=0.\n",
    "    \n",
    "    # will normalize by median over wl range w/o strong features\n",
    "    rnorm = (wl>6800)&(wl<=6900)\n",
    "    norm = np.median(flux[rnorm])\n",
    "\n",
    "    # plot normalized spectrum\n",
    "    ax.plot(wl[valid], flux[valid]/norm, alpha=alphas[j], color=cols[j], label=drs[j])\n",
    "\n",
    "lines = [6549, 6563, 6584, 6717, 6731]\n",
    "for line in lines:\n",
    "    ax.axvline(line, ls=':', color='grey')\n",
    "\n",
    "ax.legend()\n",
    "ax.set_xlim(6460, 6790)\n",
    "ax.set_ylim(0.6, 1.8)\n",
    "\n",
    "# add axis label and text\n",
    "ax.set_xlabel('Wavelength [Angstrom]')\n",
    "ax.set_title('H$\\\\alpha$;  [NII]6548,6584;  [SII]6717,6731')"
   ]
  },
  {
   "cell_type": "code",
   "execution_count": null,
   "metadata": {},
   "outputs": [],
   "source": [
    "# Zooming in around [OII] and D4000 + normalizing spectra for better comparison\n",
    "fig, ax = plt.subplots(1, 1, figsize=(10,5))\n",
    "\n",
    "# Will plot darker color for SDSS (in the back) compared to DESI\n",
    "alphas = [0.9, 0.4, 0.6]\n",
    "\n",
    "for j, specid in enumerate(specids):\n",
    "    r = (df_spec['specid']==specid)&(df_spec['data_release']==drs[j])\n",
    "    z = df_spec['redshift'][r].iloc[0]\n",
    "    ivar = df_spec[r].iloc[0].ivar/(1.+z)**2\n",
    "    wl = df_spec[r].iloc[0].wavelength/(1.+z)\n",
    "    flux = df_spec[r].iloc[0].flux*(1.+z)\n",
    "    valid = ivar!=0.\n",
    "    \n",
    "    # will normalize by median over wl range w/o strong features\n",
    "    rnorm = (wl>4100)&(wl<=4150)\n",
    "    norm = np.median(flux[rnorm])\n",
    "\n",
    "    # plot normalized spectrum\n",
    "    ax.plot(wl[valid], flux[valid]/norm, alpha=alphas[j], color=cols[j], label=drs[j])\n",
    "\n",
    "# [OII] doublet\n",
    "ax.axvline(3728, ls=':', color='grey')\n",
    "\n",
    "ax.legend()\n",
    "ax.set_xlim(3600, 4100)\n",
    "ax.set_ylim(-0.5, 2.5)\n",
    "\n",
    "# add axis label and text\n",
    "ax.set_xlabel('Wavelength [Angstrom]')\n",
    "ax.set_title('[OII]3726,3729;  4000A-break')"
   ]
  },
  {
   "cell_type": "markdown",
   "metadata": {
    "tags": []
   },
   "source": [
    "<a class=\"anchor\" id=\"morphology\"></a>\n",
    "## BONUS: Large-scale structures with LS morphologies\n",
    "\n",
    "In this section, we will leverage the photometry from the DESI pre-imaging Legacy Survey (LS). The advantage of the LS photometry is that it reaches deeper than SDSS by about 1 magnitude, which yields better image quality to measure magnitudes, colors, and galaxy shapes. \n",
    "\n",
    "We will start with the object \"TYPE\" from LS, related to the morphological shapes. \n",
    "\n",
    "The object shape (2D light profile) is modeled by [the Tractor](http://thetractor.org) ([Lang, Hogg & Mykytyn](http://adsabs.harvard.edu/abs/2016ascl.soft04008L)) as part of the procedure to compute model photometry.\n",
    "\n",
    "Possible shapes for [LS DR10 Morphological Classification](https://www.legacysurvey.org/dr10/description/#morphological-classification):\n",
    "\n",
    "- PSF (point spread function: size will vary with the seeing of the observations)\n",
    "- REX (\"round exponential\" galaxies with a variable effective radius)\n",
    "- EXP (exponential profile; spiral galaxies)\n",
    "- DEV (deVaucouleurs profile; elliptical galaxies)\n",
    "- SER (Sersic profile)\n",
    "- DUP (set for Gaia sources duplicated by an extended source -- for information only, no flux)\n",
    "\n",
    "<figure>\n",
    "<img src=\"images/Gals_Qso.jpg\", align=\"left\", width=600>\n",
    "<figcaption> Figure: Images of galaxies including a nearby elliptical galaxy, a nearby spiral galaxy, and a QSO.</figcaption>\n",
    "</figure>"
   ]
  },
  {
   "cell_type": "markdown",
   "metadata": {
    "execution": {
     "iopub.execute_input": "2025-08-01T18:13:17.960961Z",
     "iopub.status.busy": "2025-08-01T18:13:17.960673Z",
     "iopub.status.idle": "2025-08-01T18:13:17.963664Z",
     "shell.execute_reply": "2025-08-01T18:13:17.963054Z",
     "shell.execute_reply.started": "2025-08-01T18:13:17.960942Z"
    }
   },
   "source": [
    "### Joint query to SDSS DR17 & LS DR10\n",
    "\n",
    "The photometry is derived from Tractor modeling of sources, and the database includes model photometry, type (shape), as well as other quantities. \n",
    "\n",
    "The Legacy Survey DR10 database is called **ls_dr10** and includes several tables. We will use the **tractor** table together with the positional crossmatched table with specObj table from SDSS/BOSS DR17. \n",
    "\n",
    "The SDSS DR17 database is called **sdss_dr17** and also includes several tables. We will use the **specobj** table, which has spectroscopic information.\n",
    "\n",
    "We will use a pre-crossmatched table based on the closest match within a 1.5 arcsec search radius.\n",
    "\n",
    "The columns from the LS table used (Tractor) can be seen here: https://datalab.noirlab.edu/data-explorer?showTable=ls_dr10.tractor\n",
    "\n",
    "The columns from the pre-crossmatched table can be seen here: https://datalab.noirlab.edu/data-explorer?showTable=ls_dr10.x1p5__tractor__sdss_dr17__specobj\n",
    "\n",
    "**Note:** The column names and descriptions can also be found directly in a notebook with `qc.schema()` or by using the Table Access Protocol (TAP) service with a compatible tool such as TOPCAT."
   ]
  },
  {
   "cell_type": "code",
   "execution_count": null,
   "metadata": {},
   "outputs": [],
   "source": [
    "# Define a region of interest: RA, Dec in degrees\n",
    "ra_min = 183.5\n",
    "ra_max = 187.\n",
    "dec_min = 3.7\n",
    "dec_max = 6.2"
   ]
  },
  {
   "cell_type": "code",
   "execution_count": null,
   "metadata": {},
   "outputs": [],
   "source": [
    "# ls_dr10.tractor                            # LS DR10 tractor photometry\n",
    "# ls_dr10.x1p5__tractor__sdss_dr17__specobj  # LS DR10 pre-crossmatched to SDSS DR17 specobj\n",
    "# sdss_dr17.specobj                          # SDSS DR17 specobj\n",
    "\n",
    "# Write query statement (sql)\n",
    "query = (f\"\"\"\n",
    "  SELECT L.ra, L.dec, L.type, L.sersic, L.g_r, L.r_z, L.flux_r, L.flux_z, \n",
    "         S.specobjid as specobjid_dr17, S.z, S.ra as plug_ra, S.dec as plug_dec, S.class \n",
    "  FROM sdss_dr17.specobj AS S \n",
    "  JOIN ls_dr10.x1p5__tractor__sdss_dr17__specobj AS X ON S.specobjid=X.id2\n",
    "  JOIN ls_dr10.tractor AS L ON X.id1=L.ls_id\n",
    "  WHERE S.z>0.001 AND S.ra BETWEEN {ra_min} AND {ra_max} AND S.dec BETWEEN {dec_min} AND {dec_max}  \n",
    "  LIMIT 100000\n",
    "  \"\"\")\n",
    "\n",
    "# L.ra, L.dec        = RA, Dec from Legacy Survey (LS) table    \n",
    "# L.type             = object type (PSF, SIMP, EXP, DEV, COMP)\n",
    "# L.g_r, L.r_z       = pre-computed g-r and r-z colors from photometry\n",
    "# S.z                = redshift (z) from SDSS specObj table\n",
    "# S.plug_ra, dec     = RA, Dec of SDSS fiber from specObj table\n",
    "# S.class            = Source class (Star, Galaxy, QSO) from SDSS\n",
    "#\n",
    "# WHERE: requirement that RA & Dec coordinates are within a rectangular region\n",
    "#        and extragalactic sources with z>0.001 cut\n",
    "\n",
    "print(query)"
   ]
  },
  {
   "cell_type": "code",
   "execution_count": null,
   "metadata": {},
   "outputs": [],
   "source": [
    "# Call query client and save output as Astropy Table\n",
    "result = qc.query(sql=query, fmt='table')"
   ]
  },
  {
   "cell_type": "markdown",
   "metadata": {},
   "source": [
    "### Query DESI DR1 for same region of the sky"
   ]
  },
  {
   "cell_type": "code",
   "execution_count": null,
   "metadata": {},
   "outputs": [],
   "source": [
    "# Write query statement (sql)\n",
    "query_desi = (f\"\"\"\n",
    "  SELECT Z.targetid, Z.mean_fiber_ra AS ra, Z.mean_fiber_dec AS dec, Z.spectype, Z.z, Z.zwarn, \n",
    "         P.morphtype, P.sersic, P.flux_r, P.flux_z\n",
    "  FROM desi_dr1.zpix as Z\n",
    "  LEFT JOIN desi_dr1.photometry as P\n",
    "  ON Z.targetid = P.targetid\n",
    "  WHERE z>0.001 AND mean_fiber_ra BETWEEN {ra_min} AND {ra_max} AND mean_fiber_dec BETWEEN {dec_min} AND {dec_max}  \n",
    "  LIMIT 100000\"\"\")\n",
    "\n",
    "print(query_desi)"
   ]
  },
  {
   "cell_type": "code",
   "execution_count": null,
   "metadata": {},
   "outputs": [],
   "source": [
    "# Call query client and save output as Astropy Table\n",
    "result_desi = qc.query(sql=query_desi, fmt='table')"
   ]
  },
  {
   "cell_type": "code",
   "execution_count": null,
   "metadata": {},
   "outputs": [],
   "source": [
    "# Select redshift slice near peak at z~0.1\n",
    "zmin = 0.097\n",
    "zmax = 0.105\n",
    "\n",
    "# Redshift range\n",
    "rz = (result['z'] >zmin) & (result['z']<zmax)\n",
    "rz_desi = (result_desi['z'] >zmin) & (result_desi['z']<zmax)"
   ]
  },
  {
   "cell_type": "code",
   "execution_count": null,
   "metadata": {},
   "outputs": [],
   "source": [
    "# Extent of RA, Dec (in degrees) to plot\n",
    "xmin = ra_min\n",
    "xmax = ra_max\n",
    "ymin = dec_min\n",
    "ymax = dec_max\n",
    "\n",
    "fig, (ax1, ax2) = plt.subplots(1, 2, figsize=(16, 6.5))\n",
    "\n",
    "# DESI\n",
    "ra = result_desi['ra']\n",
    "dec = result_desi['dec']\n",
    "rz_plot = rz_desi\n",
    "morphtype = result_desi['morphtype']\n",
    "sersic = result_desi['sersic']\n",
    "\n",
    "# plot all points in red (all redshifts)\n",
    "ax1.scatter(ra, dec, s=1, color='r', marker='o', alpha=0.25, label='All redshifts')\n",
    "\n",
    "# overplot in black objects in narrow redshift slice\n",
    "ax1.scatter(ra[rz_plot], dec[rz_plot], s=10, color='black', label='DESI (z slice)')\n",
    "\n",
    "# Add SDSS locations in the same redshift slice\n",
    "ax1.scatter(result['plug_ra'][rz], result['plug_dec'][rz], s=20, color='b', marker='x', alpha=0.6, label='SDSS (z slice)')\n",
    "\n",
    "ax1.axis([xmin, xmax, ymin, ymax])\n",
    "ax1.set_xlim(reversed(ax1.set_xlim())) # flip the x-axis\n",
    "ax1.set_xlabel(\"RA (degrees)\", fontsize=16)\n",
    "ax1.set_ylabel(\"Dec (degrees)\", fontsize=16)\n",
    "ax1.legend()\n",
    "\n",
    "\n",
    "# Second panel: plot all points in gray (all redshifts)\n",
    "ax2.scatter(ra, dec, s=1, color='gray', marker='o', alpha=0.25)\n",
    "\n",
    "# Select redshift slice and per morphological type\n",
    "\n",
    "# DEV or early type Sersic with steep index Sersic>=3\n",
    "rdev = ((morphtype=='DEV')|((morphtype=='SER')&(sersic>=3))) & rz_plot\n",
    "# EXP or late type Sersic with index Sersic<2\n",
    "rexp = ((morphtype=='EXP')|(morphtype=='REX')|((morphtype=='SER')&(sersic<2))) & rz_plot\n",
    "# Intermediate with 2<= Sersic < 3\n",
    "rint = ((morphtype=='SER')&(sersic>=2)&(sersic<3)) & rz_plot\n",
    "# PSF is for point source shape, which we expect for stars but possibly quasars or distant, unresolved galaxies\n",
    "rpsf = (morphtype=='PSF')&rz_plot\n",
    "\n",
    "# overplot in objects in narrow redshift slice color-coded blue (EXP or Late type) or red (DEV or Early type)\n",
    "ax2.scatter(ra[rexp], dec[rexp], s=15, color='b')         # blue = EXP or late-type Sersic\n",
    "ax2.scatter(ra[rint], dec[rint], s=15, color='orange')    # orange = Intermediate\n",
    "ax2.scatter(ra[rdev], dec[rdev], s=15, color='r')         # red = DEV or early-type Sersic\n",
    "ax2.scatter(ra[rpsf], dec[rpsf], s=10, color='k')         # black = PSF (point-spread-function like)\n",
    "\n",
    "# Add SDSS\n",
    "ra = result['plug_ra']\n",
    "dec = result['plug_dec']\n",
    "rz_plot = rz\n",
    "morphtype = result['type']\n",
    "sersic = result['sersic']\n",
    "\n",
    "# Select redshift slice and per morphological type\n",
    "\n",
    "# DEV or early type Sersic with steep index Sersic>=3\n",
    "rdev = np.where(((morphtype=='DEV')|((morphtype=='SER')&(sersic>=3))) & rz_plot)\n",
    "# EXP or late type Sersic with index Sersic<2\n",
    "rexp = np.where(((morphtype=='EXP')|(morphtype=='REX')|((morphtype=='SER')&(sersic<2))) & rz_plot)\n",
    "# Intermediate with 2<= Sersic < 3\n",
    "rint = np.where(((morphtype=='SER')&(sersic>=2)&(sersic<3)) & rz_plot)\n",
    "\n",
    "# overplot in objects in narrow redshift slice color-coded blue (EXP or Late type) or red (DEV or Early type)\n",
    "ax2.scatter(ra[rexp], dec[rexp], s=15, color='b', label='Late Type')         # blue = EXP or late-type Sersic\n",
    "ax2.scatter(ra[rint], dec[rint], s=15, color='orange', label='Intermediate')    # orange = Intermediate\n",
    "ax2.scatter(ra[rdev], dec[rdev], s=15, color='r', label='Early Type')         # red = DEV or early-type Sersic\n",
    "\n",
    "plt.axis([xmin, xmax, ymin, ymax])\n",
    "plt.xlim(reversed(plt.xlim())) # flip the x-axis\n",
    "plt.xlabel(\"RA (degrees)\", fontsize=16)\n",
    "plt.ylabel(\"Dec (degrees)\", fontsize=16)\n",
    "plt.legend()\n",
    "plt.show()"
   ]
  },
  {
   "cell_type": "markdown",
   "metadata": {
    "tags": []
   },
   "source": [
    "<a class=\"anchor\" id=\"exercise\"></a>\n",
    "## EXERCISE: Large-scale structures with galaxy colors\n",
    "\n",
    "There are many possible extensions to this work. For instance, one could plot again with symbols coded with spectral type (*class* from SDSS; *spectype* from DESI) and/or velocity dispersion (from SDSS) and/or other quantities such as photometric colors.\n",
    "\n",
    "There are pre-computed colors available. The columns are described here:\n",
    "https://datalab.noirlab.edu/data-explorer?showTable=ls_dr10.tractor\n",
    "\n",
    "Exercise: plot again the galaxies spatial coordinates, but color-coded according to their photometric colors. This is left as an exercise for the user, but feel free to get in touch with the Astro Data Lab Team if you have questions."
   ]
  },
  {
   "cell_type": "markdown",
   "metadata": {},
   "source": [
    "<a class=\"anchor\" id=\"references\"></a>\n",
    "# References\n",
    "\n",
    "* SDSS DR17 Documentation: https://www.sdss4.org/dr17/\n",
    "* DESI Data Documentation: https://data.desi.lbl.gov/doc/\n",
    "* DESI Data Model information: Datamodel information: https://desidatamodel.readthedocs.io/en/latest/\n",
    "* DESI Data License and Acknowledgments: https://data.desi.lbl.gov/doc/acknowledgments/\n",
    "* Information about SPARCL: https://astrosparcl.datalab.noirlab.edu/\n",
    "* Rubin First Look: https://rubinobservatory.org/news/rubin-first-look/cosmic-treasure-chest\n",
    "* Plank Mission Cosmological Parameters paper: https://ui.adsabs.harvard.edu/abs/2020A%26A...641A...6P/abstract\n",
    "* DESI Legacy Imaging Surveys DR10 description: https://www.legacysurvey.org/dr10/description/\n",
    "  \n",
    "### Other Notebooks\n",
    "- [How to use DESI DR1 catalogs and spectra](https://github.com/astro-datalab/notebooks-latest/blob/master/03_ScienceExamples/DESI/01_Intro_to_DESI_DR1.ipynb)\n",
    "- [DESI vs. SDSS comparison](https://github.com/astro-datalab/notebooks-latest/blob/master/03_ScienceExamples/DESI/02_DESI_SDSS_Comparison.ipynb)\n",
    "- [How to use SPARCL to find and retrieve spectra](https://github.com/astro-datalab/notebooks-latest/tree/master/04_HowTos/SPARCL/How_to_use_SPARCL.ipynb)\n",
    "- [Explore spectra interactively with the Prospect tool](https://github.com/astro-datalab/notebooks-latest/tree/master/04_HowTos/SPARCL/Plot_SPARCL_Spectra_with_Prospect.ipynb)"
   ]
  }
 ],
 "metadata": {
  "anaconda-cloud": {},
  "kernelspec": {
   "display_name": "Python 3 (ipykernel)",
   "language": "python",
   "name": "python3"
  },
  "language_info": {
   "codemirror_mode": {
    "name": "ipython",
    "version": 3
   },
   "file_extension": ".py",
   "mimetype": "text/x-python",
   "name": "python",
   "nbconvert_exporter": "python",
   "pygments_lexer": "ipython3",
   "version": "3.10.13"
  }
 },
 "nbformat": 4,
 "nbformat_minor": 4
}
